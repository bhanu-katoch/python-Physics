{
 "cells": [
  {
   "cell_type": "code",
   "execution_count": 96,
   "id": "048b59c0",
   "metadata": {
    "id": "048b59c0"
   },
   "outputs": [],
   "source": [
    "import numpy as np\n",
    "from scipy.integrate import odeint\n",
    "import matplotlib.pyplot as plt\n",
    "import pandas as pd"
   ]
  },
  {
   "cell_type": "markdown",
   "id": "fa1b2803",
   "metadata": {
    "id": "fa1b2803"
   },
   "source": [
    "First Differential Equation:\n",
    "\n",
    "$$\\large\\frac{d^2u}{d\\lambda^2} - \\cos(u)\\sin(u)\\frac{dv}{d\\lambda}\\frac{dv}{d\\lambda} = 0$$\n",
    "\n",
    "2nd Differential Equation:\n",
    "\n",
    "$$\\large\\frac{d^2v}{d\\lambda^2} + 2\\cot(u)\\frac{du}{d\\lambda}\\frac{dv}{d\\lambda} = 0$$"
   ]
  },
  {
   "cell_type": "markdown",
   "id": "314a7dab",
   "metadata": {
    "id": "314a7dab"
   },
   "source": [
    "Define \n",
    "* $v_1 = \\dot{x_1}$\n",
    "* $v_2 = \\dot{x_2}$\n",
    "\n",
    "\n",
    "These make up two differential equations. Then noting that $\\dot{v_1} = \\ddot{x_1}$ and $\\dot{v_2} = \\ddot{x_2}$ we get\n",
    "\n",
    "* $\\dot{v_1} = \\cos(x_1)\\sin(x_1)v_2v_2$\n",
    "* $\\dot{v_2} = -2\\cot(x_1)v_1v_2$\n",
    "\n",
    "Then\n",
    "\n",
    "$$\\vec{S} = \\begin{bmatrix} x_1\\\\ v_1 \\\\  x_2 \\\\ v_2 \\end{bmatrix} \\hspace{10mm} \\implies \\hspace{10mm} \\frac{d\\vec{S}}{dt} = \\begin{bmatrix} \\dot{x_1}\\\\ \\dot{v_1} \\\\ \\dot{x_2} \\\\ \\dot{v_2}\\end{bmatrix} =  \\begin{bmatrix} v_1\\\\ \\cos(x_1)\\sin(x_1)v_2v_2\\\\ v_2 \\\\ -2\\cot(x_1)v_1v_2 \\end{bmatrix}$$"
   ]
  },
  {
   "cell_type": "code",
   "execution_count": 106,
   "id": "73ada3d4",
   "metadata": {
    "id": "73ada3d4"
   },
   "outputs": [],
   "source": [
    "def dSdt(t,S):\n",
    "    x1, v1, x2, v2 = S\n",
    "    return [v1,\n",
    "            np.cos(x1)*np.sin(x1)*v2**2,\n",
    "            v2,\n",
    "            -2*v1*v2/np.tan(x1)]\n",
    "x1_0 = np.pi/2\n",
    "v1_0 = 0.1\n",
    "x2_0 = np.pi/2\n",
    "v2_0 = 0.1\n",
    "S_0 = (x1_0, v1_0, x2_0, v2_0)"
   ]
  },
  {
   "cell_type": "code",
   "execution_count": 1,
   "id": "d85d7cdb",
   "metadata": {
    "id": "d85d7cdb"
   },
   "outputs": [
    {
     "ename": "NameError",
     "evalue": "name 'np' is not defined",
     "output_type": "error",
     "traceback": [
      "\u001b[0;31m---------------------------------------------------------------------------\u001b[0m",
      "\u001b[0;31mNameError\u001b[0m                                 Traceback (most recent call last)",
      "Input \u001b[0;32mIn [1]\u001b[0m, in \u001b[0;36m<cell line: 1>\u001b[0;34m()\u001b[0m\n\u001b[0;32m----> 1\u001b[0m t1 \u001b[38;5;241m=\u001b[39m \u001b[43mnp\u001b[49m\u001b[38;5;241m.\u001b[39mlinspace(\u001b[38;5;241m0\u001b[39m, \u001b[38;5;241m2\u001b[39m, \u001b[38;5;241m100\u001b[39m)\n\u001b[1;32m      2\u001b[0m sol \u001b[38;5;241m=\u001b[39m odeint(dSdt, y0\u001b[38;5;241m=\u001b[39mS_0, t\u001b[38;5;241m=\u001b[39mt1, tfirst\u001b[38;5;241m=\u001b[39m\u001b[38;5;28;01mTrue\u001b[39;00m)\n",
      "\u001b[0;31mNameError\u001b[0m: name 'np' is not defined"
     ]
    }
   ],
   "source": [
    "t1 = np.linspace(0, 2, 100)\n",
    "sol = odeint(dSdt, y0=S_0, t=t1, tfirst=True)"
   ]
  },
  {
   "cell_type": "code",
   "execution_count": 2,
   "id": "bHU5eaFh71tZ",
   "metadata": {
    "id": "bHU5eaFh71tZ"
   },
   "outputs": [],
   "source": [
    "#sol.T"
   ]
  },
  {
   "cell_type": "code",
   "execution_count": 109,
   "id": "BvqIkwJO7y17",
   "metadata": {
    "colab": {
     "base_uri": "https://localhost:8080/",
     "height": 424
    },
    "id": "BvqIkwJO7y17",
    "outputId": "5da829be-38f8-423d-ce48-060b3103bdf5"
   },
   "outputs": [
    {
     "data": {
      "text/html": [
       "\n",
       "  <div id=\"df-f8555b57-295b-4f93-a82a-552d29728878\">\n",
       "    <div class=\"colab-df-container\">\n",
       "      <div>\n",
       "<style scoped>\n",
       "    .dataframe tbody tr th:only-of-type {\n",
       "        vertical-align: middle;\n",
       "    }\n",
       "\n",
       "    .dataframe tbody tr th {\n",
       "        vertical-align: top;\n",
       "    }\n",
       "\n",
       "    .dataframe thead th {\n",
       "        text-align: right;\n",
       "    }\n",
       "</style>\n",
       "<table border=\"1\" class=\"dataframe\">\n",
       "  <thead>\n",
       "    <tr style=\"text-align: right;\">\n",
       "      <th></th>\n",
       "      <th>θ</th>\n",
       "      <th>θ`</th>\n",
       "      <th>φ</th>\n",
       "      <th>φ`</th>\n",
       "    </tr>\n",
       "  </thead>\n",
       "  <tbody>\n",
       "    <tr>\n",
       "      <th>0</th>\n",
       "      <td>1.570796</td>\n",
       "      <td>0.100000</td>\n",
       "      <td>1.570796</td>\n",
       "      <td>0.100000</td>\n",
       "    </tr>\n",
       "    <tr>\n",
       "      <th>1</th>\n",
       "      <td>1.590997</td>\n",
       "      <td>0.099980</td>\n",
       "      <td>1.591001</td>\n",
       "      <td>0.100041</td>\n",
       "    </tr>\n",
       "    <tr>\n",
       "      <th>2</th>\n",
       "      <td>1.611189</td>\n",
       "      <td>0.099918</td>\n",
       "      <td>1.611222</td>\n",
       "      <td>0.100163</td>\n",
       "    </tr>\n",
       "    <tr>\n",
       "      <th>3</th>\n",
       "      <td>1.631365</td>\n",
       "      <td>0.099816</td>\n",
       "      <td>1.631477</td>\n",
       "      <td>0.100368</td>\n",
       "    </tr>\n",
       "    <tr>\n",
       "      <th>4</th>\n",
       "      <td>1.651516</td>\n",
       "      <td>0.099672</td>\n",
       "      <td>1.651781</td>\n",
       "      <td>0.100654</td>\n",
       "    </tr>\n",
       "    <tr>\n",
       "      <th>...</th>\n",
       "      <td>...</td>\n",
       "      <td>...</td>\n",
       "      <td>...</td>\n",
       "      <td>...</td>\n",
       "    </tr>\n",
       "    <tr>\n",
       "      <th>95</th>\n",
       "      <td>1.868295</td>\n",
       "      <td>-0.095184</td>\n",
       "      <td>4.400773</td>\n",
       "      <td>0.109400</td>\n",
       "    </tr>\n",
       "    <tr>\n",
       "      <th>96</th>\n",
       "      <td>1.848999</td>\n",
       "      <td>-0.095835</td>\n",
       "      <td>4.422747</td>\n",
       "      <td>0.108157</td>\n",
       "    </tr>\n",
       "    <tr>\n",
       "      <th>97</th>\n",
       "      <td>1.829577</td>\n",
       "      <td>-0.096433</td>\n",
       "      <td>4.444479</td>\n",
       "      <td>0.107007</td>\n",
       "    </tr>\n",
       "    <tr>\n",
       "      <th>98</th>\n",
       "      <td>1.810040</td>\n",
       "      <td>-0.096980</td>\n",
       "      <td>4.465988</td>\n",
       "      <td>0.105949</td>\n",
       "    </tr>\n",
       "    <tr>\n",
       "      <th>99</th>\n",
       "      <td>1.790397</td>\n",
       "      <td>-0.097477</td>\n",
       "      <td>4.487293</td>\n",
       "      <td>0.104982</td>\n",
       "    </tr>\n",
       "  </tbody>\n",
       "</table>\n",
       "<p>100 rows × 4 columns</p>\n",
       "</div>\n",
       "      <button class=\"colab-df-convert\" onclick=\"convertToInteractive('df-f8555b57-295b-4f93-a82a-552d29728878')\"\n",
       "              title=\"Convert this dataframe to an interactive table.\"\n",
       "              style=\"display:none;\">\n",
       "        \n",
       "  <svg xmlns=\"http://www.w3.org/2000/svg\" height=\"24px\"viewBox=\"0 0 24 24\"\n",
       "       width=\"24px\">\n",
       "    <path d=\"M0 0h24v24H0V0z\" fill=\"none\"/>\n",
       "    <path d=\"M18.56 5.44l.94 2.06.94-2.06 2.06-.94-2.06-.94-.94-2.06-.94 2.06-2.06.94zm-11 1L8.5 8.5l.94-2.06 2.06-.94-2.06-.94L8.5 2.5l-.94 2.06-2.06.94zm10 10l.94 2.06.94-2.06 2.06-.94-2.06-.94-.94-2.06-.94 2.06-2.06.94z\"/><path d=\"M17.41 7.96l-1.37-1.37c-.4-.4-.92-.59-1.43-.59-.52 0-1.04.2-1.43.59L10.3 9.45l-7.72 7.72c-.78.78-.78 2.05 0 2.83L4 21.41c.39.39.9.59 1.41.59.51 0 1.02-.2 1.41-.59l7.78-7.78 2.81-2.81c.8-.78.8-2.07 0-2.86zM5.41 20L4 18.59l7.72-7.72 1.47 1.35L5.41 20z\"/>\n",
       "  </svg>\n",
       "      </button>\n",
       "      \n",
       "  <style>\n",
       "    .colab-df-container {\n",
       "      display:flex;\n",
       "      flex-wrap:wrap;\n",
       "      gap: 12px;\n",
       "    }\n",
       "\n",
       "    .colab-df-convert {\n",
       "      background-color: #E8F0FE;\n",
       "      border: none;\n",
       "      border-radius: 50%;\n",
       "      cursor: pointer;\n",
       "      display: none;\n",
       "      fill: #1967D2;\n",
       "      height: 32px;\n",
       "      padding: 0 0 0 0;\n",
       "      width: 32px;\n",
       "    }\n",
       "\n",
       "    .colab-df-convert:hover {\n",
       "      background-color: #E2EBFA;\n",
       "      box-shadow: 0px 1px 2px rgba(60, 64, 67, 0.3), 0px 1px 3px 1px rgba(60, 64, 67, 0.15);\n",
       "      fill: #174EA6;\n",
       "    }\n",
       "\n",
       "    [theme=dark] .colab-df-convert {\n",
       "      background-color: #3B4455;\n",
       "      fill: #D2E3FC;\n",
       "    }\n",
       "\n",
       "    [theme=dark] .colab-df-convert:hover {\n",
       "      background-color: #434B5C;\n",
       "      box-shadow: 0px 1px 3px 1px rgba(0, 0, 0, 0.15);\n",
       "      filter: drop-shadow(0px 1px 2px rgba(0, 0, 0, 0.3));\n",
       "      fill: #FFFFFF;\n",
       "    }\n",
       "  </style>\n",
       "\n",
       "      <script>\n",
       "        const buttonEl =\n",
       "          document.querySelector('#df-f8555b57-295b-4f93-a82a-552d29728878 button.colab-df-convert');\n",
       "        buttonEl.style.display =\n",
       "          google.colab.kernel.accessAllowed ? 'block' : 'none';\n",
       "\n",
       "        async function convertToInteractive(key) {\n",
       "          const element = document.querySelector('#df-f8555b57-295b-4f93-a82a-552d29728878');\n",
       "          const dataTable =\n",
       "            await google.colab.kernel.invokeFunction('convertToInteractive',\n",
       "                                                     [key], {});\n",
       "          if (!dataTable) return;\n",
       "\n",
       "          const docLinkHtml = 'Like what you see? Visit the ' +\n",
       "            '<a target=\"_blank\" href=https://colab.research.google.com/notebooks/data_table.ipynb>data table notebook</a>'\n",
       "            + ' to learn more about interactive tables.';\n",
       "          element.innerHTML = '';\n",
       "          dataTable['output_type'] = 'display_data';\n",
       "          await google.colab.output.renderOutput(dataTable, element);\n",
       "          const docLink = document.createElement('div');\n",
       "          docLink.innerHTML = docLinkHtml;\n",
       "          element.appendChild(docLink);\n",
       "        }\n",
       "      </script>\n",
       "    </div>\n",
       "  </div>\n",
       "  "
      ],
      "text/plain": [
       "           θ        θ`         φ        φ`\n",
       "0   1.570796  0.100000  1.570796  0.100000\n",
       "1   1.590997  0.099980  1.591001  0.100041\n",
       "2   1.611189  0.099918  1.611222  0.100163\n",
       "3   1.631365  0.099816  1.631477  0.100368\n",
       "4   1.651516  0.099672  1.651781  0.100654\n",
       "..       ...       ...       ...       ...\n",
       "95  1.868295 -0.095184  4.400773  0.109400\n",
       "96  1.848999 -0.095835  4.422747  0.108157\n",
       "97  1.829577 -0.096433  4.444479  0.107007\n",
       "98  1.810040 -0.096980  4.465988  0.105949\n",
       "99  1.790397 -0.097477  4.487293  0.104982\n",
       "\n",
       "[100 rows x 4 columns]"
      ]
     },
     "execution_count": 109,
     "metadata": {},
     "output_type": "execute_result"
    }
   ],
   "source": [
    "df = pd.DataFrame({'θ': sol.T[0], 'θ`': sol.T[1], 'φ': sol.T[2], 'φ`': sol.T[3]})\n",
    "df.iloc[[10]]\n",
    "df"
   ]
  },
  {
   "cell_type": "code",
   "execution_count": 110,
   "id": "3f4807e1",
   "metadata": {
    "colab": {
     "base_uri": "https://localhost:8080/",
     "height": 282
    },
    "id": "3f4807e1",
    "outputId": "eb11a9dc-87ca-4ee0-a8de-b6cc0dd9af71"
   },
   "outputs": [
    {
     "data": {
      "text/plain": [
       "[<matplotlib.lines.Line2D at 0x7fc68fd3ad50>]"
      ]
     },
     "execution_count": 110,
     "metadata": {},
     "output_type": "execute_result"
    },
    {
     "data": {
      "image/png": "[encoded data removed]",
      "text/plain": [
       "<Figure size 432x288 with 1 Axes>"
      ]
     },
     "metadata": {
      "needs_background": "light"
     },
     "output_type": "display_data"
    }
   ],
   "source": [
    "plt.plot(sol.T[0],sol.T[1])"
   ]
  },
  {
   "cell_type": "code",
   "execution_count": 115,
   "id": "0206583b",
   "metadata": {
    "colab": {
     "base_uri": "https://localhost:8080/",
     "height": 248
    },
    "id": "0206583b",
    "outputId": "1663ce5d-73b7-4c17-9176-8acfff4d46ed"
   },
   "outputs": [
    {
     "data": {
      "image/png": "[encoded data removed]",
      "text/plain": [
       "<Figure size 432x288 with 1 Axes>"
      ]
     },
     "metadata": {
      "needs_background": "light"
     },
     "output_type": "display_data"
    }
   ],
   "source": [
    "# importing mplot3d toolkits, numpy and matplotlib\n",
    "from mpl_toolkits import mplot3d\n",
    "import numpy as np\n",
    "import matplotlib.pyplot as plt\n",
    "\n",
    "fig = plt.figure()\n",
    "\n",
    "# syntax for 3-D projection\n",
    "ax = plt.axes(projection ='3d')\n",
    "\n",
    "θ=sol.T[0]\n",
    "φ=sol.T[2]\n",
    "\n",
    "# defining all 3 axes\n",
    "\n",
    "z = np.cos(θ)\n",
    "x = np.cos(φ)*np.sin(θ)\n",
    "y = np.sin(φ)*np.sin(θ)\n",
    "\n",
    "# plotting\n",
    "ax.plot3D(x, y, z, 'green')\n",
    "ax.set_title('3D line plot geeks for geeks')\n",
    "plt.show()\n"
   ]
  },
  {
   "cell_type": "code",
   "execution_count": 103,
   "id": "8MiE8pX_vQQ3",
   "metadata": {
    "id": "8MiE8pX_vQQ3"
   },
   "outputs": [],
   "source": []
  },
  {
   "cell_type": "code",
   "execution_count": null,
   "id": "rj_NFS1d7NNl",
   "metadata": {
    "id": "rj_NFS1d7NNl"
   },
   "outputs": [],
   "source": []
  }
 ],
 "metadata": {
  "colab": {
   "collapsed_sections": [],
   "provenance": []
  },
  "kernelspec": {
   "display_name": "Python 3 (ipykernel)",
   "language": "python",
   "name": "python3"
  },
  "language_info": {
   "codemirror_mode": {
    "name": "ipython",
    "version": 3
   },
   "file_extension": ".py",
   "mimetype": "text/x-python",
   "name": "python",
   "nbconvert_exporter": "python",
   "pygments_lexer": "ipython3",
   "version": "3.10.6"
  }
 },
 "nbformat": 4,
 "nbformat_minor": 5
}

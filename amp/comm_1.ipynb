{
 "cells": [
  {
   "cell_type": "code",
   "execution_count": 1,
   "metadata": {},
   "outputs": [
    {
     "name": "stdout",
     "output_type": "stream",
     "text": [
      "[x,px] for psi 1 = h*i\n",
      "[px,py] for psi 1 = 0\n",
      "[x,y] for psi 1 = 0\n",
      "[y,z] for psi 1 = 0 \n",
      "\n",
      "[x,px] for psi 2 = h*i\n",
      "[px,py] for psi 2 = 0\n",
      "[x,y] for psi 2 = 0\n",
      "[y,z] for psi 2 = 0 \n",
      "\n",
      "[x,px] for psi 3 = h*i\n",
      "[px,py] for psi 3 = 0\n",
      "[x,y] for psi 3 = 0\n",
      "[y,z] for psi 3 = 0 \n",
      "\n"
     ]
    }
   ],
   "source": [
    "from sympy.abc import x,y,z,i,h,m,t\n",
    "import sympy as sp\n",
    "import math \n",
    "\n",
    "psi1= x**2\n",
    "psi2= sp.exp(x)\n",
    "psi3= (sp.sin(x))**2\n",
    "def px(psi):\n",
    "\treturn -i*h*sp.diff(psi,x)\n",
    "def py(psi):\n",
    "\treturn -i*h*sp.diff(psi,y)\n",
    "def pz(psi):\n",
    "\treturn -i*h*sp.diff(psi,z)\n",
    "def x_(psi):\n",
    "\treturn x*psi\n",
    "def y_(psi):\n",
    "\treturn y*psi\n",
    "def z_(psi):\n",
    "\treturn z*psi\n",
    "def ke(psi):\n",
    "\treturn (-h**2/2*m)*sp.diff(sp.diff(psi,x),x)\n",
    "\t\n",
    "def comm(o1,o2,psi):\n",
    "\treturn sp.factor(o1(o2(psi))-o2(o1(psi)))/psi\n",
    "\n",
    "def  ei_v(expr,psi):\n",
    "\treturn expr/psi\n",
    "#f=sp.lambdify([x],exp)\n",
    "#print(f(2))\n",
    "#print(sp.expand(exp))\n",
    "#print(sp.diff(exp,x))\n",
    "#print(comm(x_,px,exp))\n",
    "for j in range(0,3):\n",
    "\tpsix=0\n",
    "\tif j==0:\n",
    "\t\tpsix=psi1\n",
    "\tif j==1:\n",
    "\t\tpsix=psi2\n",
    "\tif j==2:\n",
    "\t\tpsix=psi3 \n",
    "\tprint(\"[x,px] for psi\",j+1,\"=\",comm(x_,px,psix))\n",
    "\tprint(\"[px,py] for psi\",j+1,\"=\",comm(px,py,psix))\n",
    "\tprint(\"[x,y] for psi\",j+1,\"=\",comm(x_,y_,psix))\n",
    "\tprint(\"[y,z] for psi\",j+1,\"=\",comm(y_,z_,psix),\"\\n\")\n",
    "\t\n"
   ]
  }
 ],
 "metadata": {
  "kernelspec": {
   "display_name": "Python 3 (ipykernel)",
   "language": "python",
   "name": "python3"
  },
  "language_info": {
   "codemirror_mode": {
    "name": "ipython",
    "version": 3
   },
   "file_extension": ".py",
   "mimetype": "text/x-python",
   "name": "python",
   "nbconvert_exporter": "python",
   "pygments_lexer": "ipython3",
   "version": "3.10.6"
  },
  "vscode": {
   "interpreter": {
    "hash": "916dbcbb3f70747c44a77c7bcd40155683ae19c65e1c03b4aa3499c5328201f1"
   }
  }
 },
 "nbformat": 4,
 "nbformat_minor": 2
}

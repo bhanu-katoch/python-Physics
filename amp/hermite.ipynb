{
 "cells": [
  {
   "cell_type": "code",
   "execution_count": 1,
   "id": "b6b66765",
   "metadata": {},
   "outputs": [],
   "source": [
    "import sympy as sp"
   ]
  },
  {
   "cell_type": "code",
   "execution_count": 2,
   "id": "13c2ba56",
   "metadata": {},
   "outputs": [],
   "source": [
    "x= sp.symbols('x')"
   ]
  },
  {
   "cell_type": "code",
   "execution_count": 4,
   "id": "117e5520",
   "metadata": {},
   "outputs": [],
   "source": [
    "# legendtre operator L_()\n",
    "# to use .args properly t term is used whose effect will be neglected later and no effect on cofficent by t\n",
    "def L_(f):\n",
    "    t=x**2 \n",
    "    return sp.expand(t*(sp.diff(f,x,2) -2*x*sp.diff(f,x))) "
   ]
  },
  {
   "cell_type": "code",
   "execution_count": 23,
   "id": "0e6b64ac",
   "metadata": {},
   "outputs": [
    {
     "data": {
      "text/plain": [
       "[1, x, x**2, x**3, x**4, x**5, x**6, x**7]"
      ]
     },
     "execution_count": 23,
     "metadata": {},
     "output_type": "execute_result"
    }
   ],
   "source": [
    "P = 7\n",
    "n = P+1\n",
    "basis = []\n",
    "for i in range(n):\n",
    "    basis.append(x**i)\n",
    "basis"
   ]
  },
  {
   "cell_type": "code",
   "execution_count": 24,
   "id": "31240a35",
   "metadata": {},
   "outputs": [],
   "source": [
    "#check\n",
    "tp=L_(basis[1])\n"
   ]
  },
  {
   "cell_type": "code",
   "execution_count": 25,
   "id": "8314e882",
   "metadata": {},
   "outputs": [
    {
     "data": {
      "text/latex": [
       "$\\displaystyle - 2 x^{3}$"
      ],
      "text/plain": [
       "-2*x**3"
      ]
     },
     "execution_count": 25,
     "metadata": {},
     "output_type": "execute_result"
    }
   ],
   "source": [
    "#check\n",
    "tp"
   ]
  },
  {
   "cell_type": "code",
   "execution_count": 26,
   "id": "0d8fcf48",
   "metadata": {},
   "outputs": [
    {
     "data": {
      "text/plain": [
       "[[0],\n",
       " [-2*x**3],\n",
       " [-4*x**4 + 2*x**2],\n",
       " [-6*x**5 + 6*x**3],\n",
       " [-8*x**6 + 12*x**4],\n",
       " [-10*x**7 + 20*x**5],\n",
       " [-12*x**8 + 30*x**6],\n",
       " [-14*x**9 + 42*x**7]]"
      ]
     },
     "execution_count": 26,
     "metadata": {},
     "output_type": "execute_result"
    }
   ],
   "source": [
    "# to store terms corresponding to column vector\n",
    "Ll=[]\n",
    "t=[]\n",
    "for i in range(n):\n",
    "    t.append(L_(basis[i]))\n",
    "    Ll.append(t)\n",
    "    t=[]\n",
    "Ll"
   ]
  },
  {
   "cell_type": "code",
   "execution_count": 27,
   "id": "a41dd9b9",
   "metadata": {},
   "outputs": [
    {
     "data": {
      "text/plain": [
       "array([[ 0.,  0.,  0.,  0.,  0.,  0.,  0.,  0.],\n",
       "       [ 0., -2.,  0.,  0.,  0.,  0.,  0.,  0.],\n",
       "       [ 0.,  0.,  0.,  0.,  0.,  0.,  0.,  0.],\n",
       "       [ 0.,  0.,  0.,  0.,  0.,  0.,  0.,  0.],\n",
       "       [ 0.,  0.,  0.,  0.,  0.,  0.,  0.,  0.],\n",
       "       [ 0.,  0.,  0.,  0.,  0.,  0.,  0.,  0.],\n",
       "       [ 0.,  0.,  0.,  0.,  0.,  0.,  0.,  0.],\n",
       "       [ 0.,  0.,  0.,  0.,  0.,  0.,  0.,  0.]])"
      ]
     },
     "execution_count": 27,
     "metadata": {},
     "output_type": "execute_result"
    }
   ],
   "source": [
    "# to convert the Ll terms into required matrix ,L, whose eigenvalues and eigen vectors is to be find\n",
    "import numpy as np\n",
    "L = np.zeros([n,n])\n",
    "L[1][1]=-2\n",
    "# substituting value in 2nd row\n",
    "L\n"
   ]
  },
  {
   "cell_type": "code",
   "execution_count": 28,
   "id": "6ae3162d",
   "metadata": {},
   "outputs": [
    {
     "data": {
      "text/plain": [
       "(-4*x**4, 2*x**2)"
      ]
     },
     "execution_count": 28,
     "metadata": {},
     "output_type": "execute_result"
    }
   ],
   "source": [
    "#check\n",
    "Ll[2][0].args"
   ]
  },
  {
   "cell_type": "code",
   "execution_count": 29,
   "id": "b5e3833b",
   "metadata": {},
   "outputs": [
    {
     "name": "stdout",
     "output_type": "stream",
     "text": [
      "[[  0.   0.   2.   0.   0.   0.   0.   0.]\n",
      " [  0.  -2.   0.   6.   0.   0.   0.   0.]\n",
      " [  0.   0.  -4.   0.  12.   0.   0.   0.]\n",
      " [  0.   0.   0.  -6.   0.  20.   0.   0.]\n",
      " [  0.   0.   0.   0.  -8.   0.  30.   0.]\n",
      " [  0.   0.   0.   0.   0. -10.   0.  42.]\n",
      " [  0.   0.   0.   0.   0.   0. -12.   0.]\n",
      " [  0.   0.   0.   0.   0.   0.   0. -14.]]\n"
     ]
    }
   ],
   "source": [
    "# filling values in L\n",
    "# also ist row contains 0 only and 2nd row contains -2 only which is replaced already\n",
    "# all other remaining rows have 2 elements only\n",
    "for i in range(2,n):\n",
    "    l1=Ll[i][0].args[0]\n",
    "    l2=Ll[i][0].args[1]\n",
    "    \n",
    "    l1c=float(l1.args[0])\n",
    "    l2c=float(l2.args[0])\n",
    "    \n",
    "    l1_=l1.args[1]\n",
    "    l2_=l2.args[1]\n",
    "    \n",
    "    l1p=int(l1_.args[1])\n",
    "    l2p=int(l2_.args[1])\n",
    "    for j in range(2):\n",
    "        if j==0:\n",
    "            L[i][l1p-2]=l1c # power is removed by one which is added extra in L_ function\n",
    "        else:\n",
    "            L[i][l2p-2]=l2c\n",
    "\n",
    "L_f = L.T\n",
    "print(L_f)"
   ]
  },
  {
   "cell_type": "code",
   "execution_count": 30,
   "id": "6fe9882e",
   "metadata": {},
   "outputs": [
    {
     "data": {
      "text/plain": [
       "array([[ 1.        ,  0.        ,  0.        ,  0.        ,  0.        ,\n",
       "         0.        ,  0.        ,  0.        ],\n",
       "       [ 0.        ,  1.        ,  0.        ,  0.        ,  0.        ,\n",
       "         0.        ,  0.        ,  0.        ],\n",
       "       [-0.4472136 ,  0.        ,  0.89442719,  0.        ,  0.        ,\n",
       "         0.        ,  0.        ,  0.        ],\n",
       "       [ 0.        , -0.83205029,  0.        ,  0.5547002 ,  0.        ,\n",
       "         0.        ,  0.        ,  0.        ],\n",
       "       [ 0.23076923,  0.        , -0.92307692,  0.        ,  0.30769231,\n",
       "         0.        ,  0.        ,  0.        ],\n",
       "       [ 0.        ,  0.59246438,  0.        , -0.78995251,  0.        ,\n",
       "         0.1579905 ,  0.        ,  0.        ],\n",
       "       [-0.13699344,  0.        ,  0.82196065,  0.        , -0.54797377,\n",
       "         0.        ,  0.07306317,  0.        ],\n",
       "       [ 0.        , -0.42085943,  0.        ,  0.84171886,  0.        ,\n",
       "        -0.33668754,  0.        ,  0.03206548]])"
      ]
     },
     "execution_count": 30,
     "metadata": {},
     "output_type": "execute_result"
    }
   ],
   "source": [
    "#get eigen values and corresponding eigen-vectors of L\n",
    "evalue,evec = np.linalg.eig(L_f)\n",
    "evec.T"
   ]
  },
  {
   "cell_type": "code",
   "execution_count": 31,
   "id": "08e7f9f1",
   "metadata": {},
   "outputs": [
    {
     "data": {
      "text/plain": [
       "[1, x, x**2, x**3, x**4, x**5, x**6, x**7]"
      ]
     },
     "execution_count": 31,
     "metadata": {},
     "output_type": "execute_result"
    }
   ],
   "source": [
    "basis"
   ]
  },
  {
   "cell_type": "code",
   "execution_count": 32,
   "id": "b56af524",
   "metadata": {},
   "outputs": [
    {
     "data": {
      "text/plain": [
       "[1.00000000000000,\n",
       " 1.0*x,\n",
       " 0.894427190999916*x**2 - 0.447213595499958,\n",
       " 0.554700196225229*x**3 - 0.832050294337844*x,\n",
       " 0.307692307692308*x**4 - 0.923076923076923*x**2 + 0.230769230769231,\n",
       " 0.157990501106673*x**5 - 0.789952505533364*x**3 + 0.592464379150023*x,\n",
       " 0.0730631692976393*x**6 - 0.547973769732295*x**4 + 0.821960654598442*x**2 - 0.136993442433074,\n",
       " 0.0320654804384067*x**7 - 0.33668754460327*x**5 + 0.841718861508176*x**3 - 0.420859430754088*x]"
      ]
     },
     "execution_count": 32,
     "metadata": {},
     "output_type": "execute_result"
    }
   ],
   "source": [
    "# .dot() do dot product of two vectors(evec.T[i] and basis)\n",
    "# to get evec as function of polynomial \n",
    "# like reversing the process back to Ll matrix but this time with eigenvector coefficient\n",
    "eigenfn =[]\n",
    "for i in range(n):\n",
    "    W = evec.T[i].dot(basis)\n",
    "    eigenfn.append(W)\n",
    "eigenfn"
   ]
  },
  {
   "cell_type": "code",
   "execution_count": 35,
   "id": "84e7fa56",
   "metadata": {},
   "outputs": [
    {
     "data": {
      "text/plain": [
       "Text(0.5, 1.0, 'Legendre :: Linear Transformation')"
      ]
     },
     "execution_count": 35,
     "metadata": {},
     "output_type": "execute_result"
    },
    {
     "data": {
      "image/png": "[encoded data removed]",
      "text/plain": [
       "<Figure size 640x480 with 1 Axes>"
      ]
     },
     "metadata": {},
     "output_type": "display_data"
    }
   ],
   "source": [
    "#plot\n",
    "import matplotlib.pyplot as plt\n",
    "from scipy.special import hermite\n",
    "\n",
    "#color list in order to make sure that legendre actual-P and P has same color\n",
    "clr=['r','g','b','c','m','k','y','w']\n",
    "\n",
    "factor=0.01\n",
    "t1= list(np.arange(-5,5,factor))\n",
    "\n",
    "Efinal = []\n",
    "\n",
    "#plot is upto degree of basis\n",
    "pv=4\n",
    "assert pv<=n\n",
    "\n",
    "for i in range(pv):\n",
    "    EF = []\n",
    "    for j in t1:\n",
    "#         p = eigenfn[i].subs({x:float(j)})               #converts the variable x in eigenfn to j\n",
    "#         EF.append(p)\n",
    "            #or\n",
    "          q = sp.lambdify(x,eigenfn[i])\n",
    "          p = q(float(j))\n",
    "          EF.append(p)\n",
    "    Efinal.append(EF)\n",
    "    \n",
    "    leg=hermite(i)\n",
    "    plt.plot(t1,leg(t1),ls=\"--\",c=clr[i])\n",
    "    plt.plot(t1,Efinal[i],c=clr[i])\n",
    "        \n",
    "plt.xlim([-5,5])\n",
    "plt.ylim([-10,10])\n",
    "\n",
    "plt.plot(0,label='actual : P',c='k',ls='--')\n",
    "plt.plot(0,label='Linear-transformation : P',c='k')\n",
    "plt.legend(loc='best')\n",
    "plt.axvline(x=0,c='k',ls=':')\n",
    "plt.axhline(y=0,c='k',ls=':')\n",
    "plt.title(\"Legendre :: Linear Transformation\")\n",
    "\n",
    "# print(Efinal)\n",
    "# plt.yticks(np.arange(-1,1,0.1))\n",
    "# plt.xticks(np.arange(-1,1,0.1))"
   ]
  },
  {
   "cell_type": "markdown",
   "id": "b24673b9",
   "metadata": {},
   "source": [
    "the difference between actual-P and P always remains and cannot be removed by variable factor"
   ]
  },
  {
   "cell_type": "code",
   "execution_count": 34,
   "id": "10b68fc4",
   "metadata": {},
   "outputs": [],
   "source": [
    "##check\n",
    "# from scipy.special import legendre\n",
    "# l=legendre(2)\n",
    "# #t=np.linspace(-1,1,100)\n",
    "# t= list(np.arange(-1,1,accuracy))\n",
    "\n",
    "# plt.plot(t,l(t))"
   ]
  },
  {
   "cell_type": "code",
   "execution_count": 24,
   "id": "bb166e70",
   "metadata": {},
   "outputs": [],
   "source": [
    "##check\n",
    "# EF=[]\n",
    "# t1= list(np.arange(-1,1,0.1))\n",
    "# for j in t1:\n",
    "#     q = sp.lambdify(x,eigenfn[2])\n",
    "#     p=q(float(j))#converts the variable x in eigenfn to j\n",
    "#     EF.append(p)\n",
    "# EF"
   ]
  }
 ],
 "metadata": {
  "kernelspec": {
   "display_name": "Python 3 (ipykernel)",
   "language": "python",
   "name": "python3"
  },
  "language_info": {
   "codemirror_mode": {
    "name": "ipython",
    "version": 3
   },
   "file_extension": ".py",
   "mimetype": "text/x-python",
   "name": "python",
   "nbconvert_exporter": "python",
   "pygments_lexer": "ipython3",
   "version": "3.10.6"
  }
 },
 "nbformat": 4,
 "nbformat_minor": 5
}

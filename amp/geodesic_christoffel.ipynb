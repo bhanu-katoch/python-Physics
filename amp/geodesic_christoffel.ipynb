{
 "cells": [
  {
   "cell_type": "code",
   "execution_count": 2,
   "id": "d849b43e",
   "metadata": {},
   "outputs": [],
   "source": [
    "import numpy as np\n",
    "import sympy as sp\n",
    "from scipy.integrate import odeint\n",
    "import matplotlib.pyplot as plt\n",
    "from matplotlib import animation\n",
    "from matplotlib.animation import PillowWriter"
   ]
  },
  {
   "cell_type": "markdown",
   "id": "8d25e985",
   "metadata": {},
   "source": [
    "To compute geodesic on a surface \n",
    "\n",
    "1. Compute Christofell Symbols\n",
    "$$\\Gamma_{ij}^{k} = \\frac{\\partial^2\\vec{R}}{\\partial u^i \\partial u^j}\\cdot\\frac{\\partial \\vec{R}}{\\partial u^{l}} \\large\\widetilde{g}^{lk}$$\n",
    "\n",
    "2. Solve Geodesic Equations\n",
    "$$\\frac{d^2u^k}{d\\lambda^2} + \\Gamma_{ij}^{k}\\frac{du^i}{d\\lambda}\\frac{du^j}{d\\lambda} = 0$$"
   ]
  },
  {
   "cell_type": "code",
   "execution_count": 3,
   "id": "f961eaf5",
   "metadata": {},
   "outputs": [],
   "source": [
    "u1,u2,X,Y,Z=sp.symbols('u1 u2 X Y Z')\n",
    "R=sp.symbols('R',cls=sp.Function)\n",
    "\n",
    "u=sp.Matrix([u1,u2])\n",
    "\n",
    "# θ=θ(t)\n",
    "# φ=φ(t)\n",
    "# θ_d=sp.diff(θ,φ)\n",
    "# # θ_d"
   ]
  },
  {
   "cell_type": "code",
   "execution_count": 4,
   "id": "4435fa1c",
   "metadata": {},
   "outputs": [
    {
     "data": {
      "text/latex": [
       "$\\displaystyle \\sin{\\left(u_{1} \\right)} \\sin{\\left(u_{2} \\right)} + \\sin{\\left(u_{1} \\right)} \\cos{\\left(u_{2} \\right)} + \\cos{\\left(u_{1} \\right)}$"
      ],
      "text/plain": [
       "sin(u1)*sin(u2) + sin(u1)*cos(u2) + cos(u1)"
      ]
     },
     "execution_count": 4,
     "metadata": {},
     "output_type": "execute_result"
    }
   ],
   "source": [
    "#assigning values to X,Y,Z\n",
    "X1=sp.cos(u[1])*sp.sin(u[0])\n",
    "Y1=sp.sin(u[1])*sp.sin(u[0])\n",
    "Z1=sp.cos(u[0])\n",
    "R=X1+Y1+Z1\n",
    "R"
   ]
  },
  {
   "cell_type": "code",
   "execution_count": 5,
   "id": "f08c7d2b",
   "metadata": {},
   "outputs": [],
   "source": [
    "xx=[X1,Y1,Z1]\n",
    "d=2"
   ]
  },
  {
   "cell_type": "code",
   "execution_count": 6,
   "id": "e69ba374",
   "metadata": {},
   "outputs": [],
   "source": [
    "def dot_p(A,B,d):\n",
    "    sum=0\n",
    "    for i in range(d):\n",
    "        sum+=A[i]*B[i]\n",
    "    return sum"
   ]
  },
  {
   "cell_type": "code",
   "execution_count": 7,
   "id": "bb862ca4",
   "metadata": {},
   "outputs": [],
   "source": [
    "def dv(u,xx,d):\n",
    "    sum=[]\n",
    "    for i in range(d+1):\n",
    "        sum.append(sp.diff(xx[i],u))\n",
    "    return sum"
   ]
  },
  {
   "cell_type": "code",
   "execution_count": 8,
   "id": "7a66e57f",
   "metadata": {},
   "outputs": [
    {
     "data": {
      "text/plain": [
       "[[cos(u1)*cos(u2), sin(u2)*cos(u1), -sin(u1)],\n",
       " [-sin(u1)*sin(u2), sin(u1)*cos(u2), 0]]"
      ]
     },
     "execution_count": 8,
     "metadata": {},
     "output_type": "execute_result"
    }
   ],
   "source": [
    "Rdv=[]\n",
    "for i in range(d):\n",
    "    Rdv.append(dv(u[i],xx,d))\n",
    "Rdv"
   ]
  },
  {
   "cell_type": "code",
   "execution_count": 9,
   "id": "aa478217",
   "metadata": {},
   "outputs": [
    {
     "data": {
      "text/plain": [
       "[[[-sin(u1)*cos(u2), -sin(u1)*sin(u2), -cos(u1)],\n",
       "  [-sin(u2)*cos(u1), cos(u1)*cos(u2), 0]],\n",
       " [[-sin(u2)*cos(u1), cos(u1)*cos(u2), 0],\n",
       "  [-sin(u1)*cos(u2), -sin(u1)*sin(u2), 0]]]"
      ]
     },
     "execution_count": 9,
     "metadata": {},
     "output_type": "execute_result"
    }
   ],
   "source": [
    "R_2dv=[]\n",
    "for i in range(d):\n",
    "    t=[]\n",
    "    for j in range(d):\n",
    "        t.append(dv(u[j],Rdv[i],d))\n",
    "    R_2dv.append(t)\n",
    "R_2dv"
   ]
  },
  {
   "cell_type": "code",
   "execution_count": 10,
   "id": "a01bb54a",
   "metadata": {},
   "outputs": [
    {
     "data": {
      "text/plain": [
       "[[1, 0], [0, sin(u1)**2]]"
      ]
     },
     "execution_count": 10,
     "metadata": {},
     "output_type": "execute_result"
    }
   ],
   "source": [
    "M_T=[]  \n",
    "for i in range(d):\n",
    "    t=[]\n",
    "    for j in range(d):\n",
    "        t.append(sp.trigsimp(dot_p(Rdv[i],Rdv[j],d+1)))\n",
    "    M_T.append(t)\n",
    "\n",
    "       \n",
    "M_T"
   ]
  },
  {
   "cell_type": "code",
   "execution_count": 11,
   "id": "acaf335c",
   "metadata": {},
   "outputs": [
    {
     "data": {
      "text/latex": [
       "$\\displaystyle \\left[\\begin{matrix}1 & 0\\\\0 & \\frac{1}{\\sin^{2}{\\left(u_{1} \\right)}}\\end{matrix}\\right]$"
      ],
      "text/plain": [
       "Matrix([\n",
       "[1,             0],\n",
       "[0, sin(u1)**(-2)]])"
      ]
     },
     "execution_count": 11,
     "metadata": {},
     "output_type": "execute_result"
    }
   ],
   "source": [
    "M_Tm=sp.Matrix([[M_T[0][0],M_T[0][1]],[M_T[1][0],M_T[1][1]]])\n",
    "M_Tinv=M_Tm.inv()\n",
    "M_Tinv\n",
    "                                       "
   ]
  },
  {
   "cell_type": "code",
   "execution_count": 12,
   "id": "745a3c27",
   "metadata": {},
   "outputs": [
    {
     "data": {
      "text/plain": [
       "[[1, 0], [0, sin(u1)**(-2)]]"
      ]
     },
     "execution_count": 12,
     "metadata": {},
     "output_type": "execute_result"
    }
   ],
   "source": [
    "M_inv=[]\n",
    "tt=0\n",
    "for i in range(d):\n",
    "    t=[]\n",
    "    for j in range(d):\n",
    "        t.append(M_Tinv[tt])\n",
    "        tt+=1\n",
    "    M_inv.append(t)\n",
    "M_inv"
   ]
  },
  {
   "cell_type": "markdown",
   "id": "7a0e94c2",
   "metadata": {},
   "source": [
    "$\\Lambda--->\\large{\\frac{\\partial^2\\vec{R}}{\\partial u^i \\partial u^j}\\cdot\\frac{\\partial \\vec{R}}{\\partial u^{l}}}$"
   ]
  },
  {
   "cell_type": "code",
   "execution_count": 13,
   "id": "5fc55a32",
   "metadata": {},
   "outputs": [
    {
     "data": {
      "text/plain": [
       "[[[0, 0], [0, -sin(2*u1)/2]], [[0, sin(2*u1)/2], [sin(2*u1)/2, 0]]]"
      ]
     },
     "execution_count": 13,
     "metadata": {},
     "output_type": "execute_result"
    }
   ],
   "source": [
    "#\n",
    "Λ=[]\n",
    "for x in range(d):\n",
    "    t1=[]\n",
    "    for i in range(d):\n",
    "        t2=[]\n",
    "        for j in range(d):\n",
    "            t2.append(sp.simplify(dot_p(R_2dv[i][j],Rdv[x],d+1)))\n",
    "        t1.append(t2)\n",
    "    Λ.append(t1)\n",
    "Λ"
   ]
  },
  {
   "cell_type": "markdown",
   "id": "280fd379",
   "metadata": {},
   "source": [
    "$\\chi ---> \\Lambda\\large\\widetilde{g}^{lk}$"
   ]
  },
  {
   "cell_type": "code",
   "execution_count": 14,
   "id": "d1dd1f6f",
   "metadata": {},
   "outputs": [
    {
     "data": {
      "text/plain": [
       "[[[[0, 0], [0, -sin(2*u1)/2]], [[0, 0], [0, 0]]],\n",
       " [[[0, 0], [0, 0]],\n",
       "  [[0, sin(2*u1)/(2*sin(u1)**2)], [sin(2*u1)/(2*sin(u1)**2), 0]]]]"
      ]
     },
     "execution_count": 14,
     "metadata": {},
     "output_type": "execute_result"
    }
   ],
   "source": [
    "χ=[]\n",
    "# inverse metrictensor multipication\n",
    "for y in range(d):\n",
    "    tc=[]\n",
    "    for x in range(d):\n",
    "        t1=[]\n",
    "        for i in range(d):\n",
    "            t2=[]\n",
    "            for j in range(d):\n",
    "                t2.append(Λ[x][i][j]*M_inv[x][y])\n",
    "            t1.append(t2)\n",
    "        tc.append(t1)\n",
    "    χ.append(tc)\n",
    "χ \n",
    "            \n",
    "    "
   ]
  },
  {
   "cell_type": "code",
   "execution_count": 15,
   "id": "6fe89ecc",
   "metadata": {},
   "outputs": [
    {
     "data": {
      "text/plain": [
       "[[[0, 0], [0, -sin(2*u1)/2]], [[0, 0], [0, 0]]]"
      ]
     },
     "execution_count": 15,
     "metadata": {},
     "output_type": "execute_result"
    }
   ],
   "source": [
    "χ[0]"
   ]
  },
  {
   "cell_type": "markdown",
   "id": "92f2f3d2",
   "metadata": {},
   "source": [
    "$\\Gamma_1 ---> \\Gamma^{1}_{ij}$"
   ]
  },
  {
   "cell_type": "code",
   "execution_count": 16,
   "id": "42c91f0f",
   "metadata": {},
   "outputs": [
    {
     "data": {
      "text/plain": [
       "[[0, 0], [0, -sin(2*u1)/2]]"
      ]
     },
     "execution_count": 16,
     "metadata": {},
     "output_type": "execute_result"
    }
   ],
   "source": [
    "t1=[]\n",
    "for i in range(d):\n",
    "    t=[]\n",
    "    for j in range(d):\n",
    "        t.append(χ[0][0][i][j]+χ[0][1][i][j])\n",
    "    t1.append(t)\n",
    "t1\n",
    "    "
   ]
  },
  {
   "cell_type": "markdown",
   "id": "b1f3f5eb",
   "metadata": {},
   "source": [
    "$\\Gamma1--->\\Gamma^1_{ij}$ as  [i,j,value]"
   ]
  },
  {
   "cell_type": "code",
   "execution_count": 17,
   "id": "cb367088",
   "metadata": {},
   "outputs": [
    {
     "data": {
      "text/plain": [
       "[[2, 2, -sin(2*u1)/2]]"
      ]
     },
     "execution_count": 17,
     "metadata": {},
     "output_type": "execute_result"
    }
   ],
   "source": [
    "Γ1=[]\n",
    "for i in range(d):\n",
    "    t=[]\n",
    "    for j in range(d):\n",
    "        if t1[i][j]!=0:\n",
    "            t.append(i+1)\n",
    "            t.append(j+1)\n",
    "            t.append(t1[i][j])\n",
    "            Γ1.append(t)\n",
    "Γ1"
   ]
  },
  {
   "cell_type": "code",
   "execution_count": 18,
   "id": "acf6b13a",
   "metadata": {},
   "outputs": [
    {
     "data": {
      "text/plain": [
       "[[0, sin(2*u1)/(2*sin(u1)**2)], [sin(2*u1)/(2*sin(u1)**2), 0]]"
      ]
     },
     "execution_count": 18,
     "metadata": {},
     "output_type": "execute_result"
    }
   ],
   "source": [
    "t2=[]\n",
    "for i in range(d):\n",
    "    t=[]\n",
    "    for j in range(d):\n",
    "        t.append(χ[1][0][i][j]+χ[1][1][i][j])\n",
    "    t2.append(t)\n",
    "t2\n",
    "    "
   ]
  },
  {
   "cell_type": "markdown",
   "id": "63753f9f",
   "metadata": {},
   "source": [
    "$\\Gamma_2 ---> \\Gamma^{2}_{ij}$ as [i,j,value]"
   ]
  },
  {
   "cell_type": "code",
   "execution_count": 19,
   "id": "61e1d968",
   "metadata": {},
   "outputs": [
    {
     "data": {
      "text/plain": [
       "[[1, 2, sin(2*u1)/(2*sin(u1)**2)], [2, 1, sin(2*u1)/(2*sin(u1)**2)]]"
      ]
     },
     "execution_count": 19,
     "metadata": {},
     "output_type": "execute_result"
    }
   ],
   "source": [
    "Γ2=[]\n",
    "for i in range(d):\n",
    "    t=[]\n",
    "    for j in range(d):\n",
    "        if t2[i][j]!=0 and i!=j:\n",
    "            t.append(i+1)\n",
    "            t.append(j+1)\n",
    "            t.append(t2[i][j])\n",
    "            Γ2.append(t)\n",
    "Γ2"
   ]
  },
  {
   "cell_type": "markdown",
   "id": "e186f553",
   "metadata": {},
   "source": [
    "Consider only diagonal elements and one of symmeteric elements of Chritofell symbol, $\\Gamma$."
   ]
  },
  {
   "cell_type": "markdown",
   "id": "eaface02",
   "metadata": {},
   "source": [
    "$\\Gamma ---> [\\Gamma^{1}_{ij},\\Gamma^{2}_{ij}]$"
   ]
  },
  {
   "cell_type": "code",
   "execution_count": 20,
   "id": "c3bba48a",
   "metadata": {},
   "outputs": [
    {
     "data": {
      "text/plain": [
       "[[2, 2, -sin(2*u1)/2], [1, 2, sin(2*u1)/(2*sin(u1)**2)]]"
      ]
     },
     "execution_count": 20,
     "metadata": {},
     "output_type": "execute_result"
    }
   ],
   "source": [
    "Γ=[Γ1[0],Γ2[0]]\n",
    "Γ"
   ]
  },
  {
   "cell_type": "markdown",
   "id": "c61c9b9d",
   "metadata": {},
   "source": [
    "Simplified values:"
   ]
  },
  {
   "cell_type": "code",
   "execution_count": 21,
   "id": "50074206",
   "metadata": {},
   "outputs": [
    {
     "data": {
      "text/plain": [
       "[[2, 2, -sin(2*u1)/2], [1, 2, 1/tan(u1)]]"
      ]
     },
     "execution_count": 21,
     "metadata": {},
     "output_type": "execute_result"
    }
   ],
   "source": [
    "for i in range(len(Γ)):\n",
    "    Γ[i][2]=sp.trigsimp(Γ[i][2])\n",
    "Γ"
   ]
  },
  {
   "cell_type": "markdown",
   "id": "106709a7",
   "metadata": {},
   "source": [
    "$\\Gamma[0]$ = $\\Gamma^{1}_{22}$ and $\\Gamma[1]$ = $\\Gamma^{2}_{12}$"
   ]
  }
 ],
 "metadata": {
  "kernelspec": {
   "display_name": "Python 3 (ipykernel)",
   "language": "python",
   "name": "python3"
  },
  "language_info": {
   "codemirror_mode": {
    "name": "ipython",
    "version": 3
   },
   "file_extension": ".py",
   "mimetype": "text/x-python",
   "name": "python",
   "nbconvert_exporter": "python",
   "pygments_lexer": "ipython3",
   "version": "3.10.6"
  }
 },
 "nbformat": 4,
 "nbformat_minor": 5
}

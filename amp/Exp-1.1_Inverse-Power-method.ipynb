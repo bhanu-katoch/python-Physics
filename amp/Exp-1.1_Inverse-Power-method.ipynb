{
 "cells": [
  {
   "cell_type": "code",
   "execution_count": 1,
   "metadata": {},
   "outputs": [
    {
     "name": "stdout",
     "output_type": "stream",
     "text": [
      "eigen-vector: [ 1.00000e+00  5.24288e+04 -2.62144e+04]\n",
      "eigen-value: 0.9999999998544808\n"
     ]
    }
   ],
   "source": [
    "# work for even 3X3 matrix\n",
    "import numpy as np \n",
    "#a=np.array([[2,-12],[1,-5]])\n",
    "#a=np.array([[2,0,0],[0,3,4],[0,4,9]])\n",
    "aa=np.array([[4,2],[3,1]])\n",
    "a=np.linalg.inv(aa) \n",
    "x=np.array([1,1])\n",
    "o=2\n",
    "eps=0.001\n",
    "\n",
    "def large(arr,n):\n",
    "\tmax=arr[0]\n",
    "\tfor i in range(1,n):\n",
    "\t\tif(abs(arr[i])>abs(max)):\n",
    "\t\t\tmax=arr[i]\n",
    "\treturn max\n",
    "\t\n",
    "s=[0,0]\n",
    "i=0\n",
    "\n",
    "while(i<=1 or (abs(abs(s[i+1])-abs(s[i]))>=eps)):\n",
    "\txx=np.matmul(a,x)\n",
    "\tf=large(xx,o)\n",
    "\tx=np.true_divide(xx,f)\n",
    "\ts.append(f)\n",
    "\ti+=1\n",
    "\n",
    "print(\"eigen-vector:\",x)\n",
    "print(\"eigen-value:\",1/f)\n",
    "\n"
   ]
  }
 ],
 "metadata": {
  "kernelspec": {
   "display_name": "Python 3.10.4 64-bit",
   "language": "python",
   "name": "python3"
  },
  "language_info": {
   "codemirror_mode": {
    "name": "ipython",
    "version": 3
   },
   "file_extension": ".py",
   "mimetype": "text/x-python",
   "name": "python",
   "nbconvert_exporter": "python",
   "pygments_lexer": "ipython3",
   "version": "3.10.4"
  },
  "orig_nbformat": 4,
  "vscode": {
   "interpreter": {
    "hash": "916dbcbb3f70747c44a77c7bcd40155683ae19c65e1c03b4aa3499c5328201f1"
   }
  }
 },
 "nbformat": 4,
 "nbformat_minor": 2
}

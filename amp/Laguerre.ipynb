{
 "cells": [
  {
   "cell_type": "code",
   "execution_count": 4,
   "id": "b6b66765",
   "metadata": {},
   "outputs": [],
   "source": [
    "import sympy as sp"
   ]
  },
  {
   "cell_type": "code",
   "execution_count": 5,
   "id": "13c2ba56",
   "metadata": {},
   "outputs": [],
   "source": [
    "x= sp.symbols('x')"
   ]
  },
  {
   "cell_type": "code",
   "execution_count": 6,
   "id": "117e5520",
   "metadata": {},
   "outputs": [],
   "source": [
    "# legendtre operator L_()\n",
    "# to use .args properly t term is used whose effect will be neglected later and no effect on cofficent by t\n",
    "def L_(f):\n",
    "    t=x**2 \n",
    "    return sp.expand(t*((x)*sp.diff(f,x,2) +(1-x)*sp.diff(f,x))) "
   ]
  },
  {
   "cell_type": "code",
   "execution_count": 7,
   "id": "0e6b64ac",
   "metadata": {},
   "outputs": [
    {
     "data": {
      "text/plain": [
       "[1, x, x**2, x**3, x**4]"
      ]
     },
     "execution_count": 7,
     "metadata": {},
     "output_type": "execute_result"
    }
   ],
   "source": [
    "P = 4\n",
    "n = P+1\n",
    "basis = []\n",
    "for i in range(n):\n",
    "    basis.append(x**i)\n",
    "basis"
   ]
  },
  {
   "cell_type": "code",
   "execution_count": 8,
   "id": "31240a35",
   "metadata": {},
   "outputs": [],
   "source": [
    "#check\n",
    "tp=L_(basis[1])\n"
   ]
  },
  {
   "cell_type": "code",
   "execution_count": 9,
   "id": "8314e882",
   "metadata": {},
   "outputs": [
    {
     "data": {
      "text/latex": [
       "$\\displaystyle - x^{3} + x^{2}$"
      ],
      "text/plain": [
       "-x**3 + x**2"
      ]
     },
     "execution_count": 9,
     "metadata": {},
     "output_type": "execute_result"
    }
   ],
   "source": [
    "#check\n",
    "tp"
   ]
  },
  {
   "cell_type": "code",
   "execution_count": 10,
   "id": "0d8fcf48",
   "metadata": {},
   "outputs": [
    {
     "data": {
      "text/plain": [
       "[[0],\n",
       " [-x**3 + x**2],\n",
       " [-2*x**4 + 4*x**3],\n",
       " [-3*x**5 + 9*x**4],\n",
       " [-4*x**6 + 16*x**5]]"
      ]
     },
     "execution_count": 10,
     "metadata": {},
     "output_type": "execute_result"
    }
   ],
   "source": [
    "# to store terms corresponding to column vector\n",
    "Ll=[]\n",
    "t=[]\n",
    "for i in range(n):\n",
    "    t.append(L_(basis[i]))\n",
    "    Ll.append(t)\n",
    "    t=[]\n",
    "Ll"
   ]
  },
  {
   "cell_type": "code",
   "execution_count": 11,
   "id": "a41dd9b9",
   "metadata": {},
   "outputs": [
    {
     "data": {
      "text/plain": [
       "array([[ 0.,  0.,  0.,  0.,  0.],\n",
       "       [ 1., -1.,  0.,  0.,  0.],\n",
       "       [ 0.,  0.,  0.,  0.,  0.],\n",
       "       [ 0.,  0.,  0.,  0.,  0.],\n",
       "       [ 0.,  0.,  0.,  0.,  0.]])"
      ]
     },
     "execution_count": 11,
     "metadata": {},
     "output_type": "execute_result"
    }
   ],
   "source": [
    "# to convert the Ll terms into required matrix ,L, whose eigenvalues and eigen vectors is to be find\n",
    "import numpy as np\n",
    "L = np.zeros([n,n])\n",
    "L[1][1]=-1\n",
    "L[1][0]=1# substituting value in 2nd row\n",
    "L\n"
   ]
  },
  {
   "cell_type": "code",
   "execution_count": 12,
   "id": "6ae3162d",
   "metadata": {},
   "outputs": [
    {
     "data": {
      "text/plain": [
       "(-2*x**4, 4*x**3)"
      ]
     },
     "execution_count": 12,
     "metadata": {},
     "output_type": "execute_result"
    }
   ],
   "source": [
    "#check\n",
    "Ll[2][0].args"
   ]
  },
  {
   "cell_type": "code",
   "execution_count": 13,
   "id": "b5e3833b",
   "metadata": {},
   "outputs": [
    {
     "name": "stdout",
     "output_type": "stream",
     "text": [
      "[[ 0.  1.  0.  0.  0.]\n",
      " [ 0. -1.  4.  0.  0.]\n",
      " [ 0.  0. -2.  9.  0.]\n",
      " [ 0.  0.  0. -3. 16.]\n",
      " [ 0.  0.  0.  0. -4.]]\n"
     ]
    }
   ],
   "source": [
    "# filling values in L\n",
    "# also ist row contains 0 only and 2nd row contains -2 only which is replaced already\n",
    "# all other remaining rows have 2 elements only\n",
    "for i in range(2,n):\n",
    "    l1=Ll[i][0].args[0]\n",
    "    l2=Ll[i][0].args[1]\n",
    "    \n",
    "    l1c=float(l1.args[0])\n",
    "    l2c=float(l2.args[0])\n",
    "    \n",
    "    l1_=l1.args[1]\n",
    "    l2_=l2.args[1]\n",
    "    \n",
    "    l1p=int(l1_.args[1])\n",
    "    l2p=int(l2_.args[1])\n",
    "    for j in range(2):\n",
    "        if j==0:\n",
    "            L[i][l1p-2]=l1c # power is removed by one which is added extra in L_ function\n",
    "        else:\n",
    "            L[i][l2p-2]=l2c\n",
    "\n",
    "L_f = L.T\n",
    "print(L_f)"
   ]
  },
  {
   "cell_type": "code",
   "execution_count": 14,
   "id": "6fe9882e",
   "metadata": {},
   "outputs": [
    {
     "data": {
      "text/plain": [
       "array([[ 1.        ,  0.        ,  0.        ,  0.        ,  0.        ],\n",
       "       [-0.70710678,  0.70710678,  0.        ,  0.        ,  0.        ],\n",
       "       [ 0.43643578, -0.87287156,  0.21821789,  0.        ,  0.        ],\n",
       "       [-0.2853909 ,  0.85617269, -0.42808634,  0.04756515,  0.        ],\n",
       "       [ 0.19445473, -0.77781894,  0.5833642 , -0.12963649,  0.00810228]])"
      ]
     },
     "execution_count": 14,
     "metadata": {},
     "output_type": "execute_result"
    }
   ],
   "source": [
    "#get eigen values and corresponding eigen-vectors of L\n",
    "evalue,evec = np.linalg.eig(L_f)\n",
    "evec.T"
   ]
  },
  {
   "cell_type": "code",
   "execution_count": 15,
   "id": "08e7f9f1",
   "metadata": {},
   "outputs": [
    {
     "data": {
      "text/plain": [
       "[1, x, x**2, x**3, x**4]"
      ]
     },
     "execution_count": 15,
     "metadata": {},
     "output_type": "execute_result"
    }
   ],
   "source": [
    "basis"
   ]
  },
  {
   "cell_type": "code",
   "execution_count": 16,
   "id": "b56af524",
   "metadata": {},
   "outputs": [
    {
     "data": {
      "text/plain": [
       "[1.00000000000000,\n",
       " 0.707106781186547*x - 0.707106781186547,\n",
       " 0.218217890235992*x**2 - 0.87287156094397*x + 0.436435780471985,\n",
       " 0.0475651494154494*x**3 - 0.428086344739045*x**2 + 0.856172689478089*x - 0.285390896492696,\n",
       " 0.00810228058630038*x**4 - 0.129636489380806*x**3 + 0.583364202213627*x**2 - 0.777818936284836*x + 0.194454734071209]"
      ]
     },
     "execution_count": 16,
     "metadata": {},
     "output_type": "execute_result"
    }
   ],
   "source": [
    "# .dot() do dot product of two vectors(evec.T[i] and basis)\n",
    "# to get evec as function of polynomial \n",
    "# like reversing the process back to Ll matrix but this time with eigenvector coefficient\n",
    "eigenfn =[]\n",
    "for i in range(n):\n",
    "    W = evec.T[i].dot(basis)\n",
    "    eigenfn.append(W)\n",
    "eigenfn"
   ]
  },
  {
   "cell_type": "code",
   "execution_count": 29,
   "id": "84e7fa56",
   "metadata": {},
   "outputs": [
    {
     "data": {
      "text/plain": [
       "Text(0.5, 1.0, 'Legendre :: Linear Transformation')"
      ]
     },
     "execution_count": 29,
     "metadata": {},
     "output_type": "execute_result"
    },
    {
     "data": {
      "image/png": "[encoded data removed]",
      "text/plain": [
       "<Figure size 640x480 with 1 Axes>"
      ]
     },
     "metadata": {},
     "output_type": "display_data"
    }
   ],
   "source": [
    "#plot\n",
    "import matplotlib.pyplot as plt\n",
    "from scipy.special import laguerre\n",
    "\n",
    "#color list in order to make sure that legendre actual-P and P has same color\n",
    "clr=['r','g','b','c','m','k','y','w']\n",
    "\n",
    "factor=0.01\n",
    "t1= list(np.arange(0,10,factor))\n",
    "\n",
    "Efinal = []\n",
    "\n",
    "#plot is upto degree of basis\n",
    "pv=4\n",
    "assert pv<=n\n",
    "\n",
    "for i in range(pv):\n",
    "    EF = []\n",
    "    for j in t1:\n",
    "#         p = eigenfn[i].subs({x:float(j)})               #converts the variable x in eigenfn to j\n",
    "#         EF.append(p)\n",
    "            #or\n",
    "          q = sp.lambdify(x,eigenfn[i])\n",
    "          p = q(float(j))\n",
    "          EF.append(p)\n",
    "    Efinal.append(EF)\n",
    "    \n",
    "    leg=laguerre(i)\n",
    "    plt.plot(t1,leg(t1),ls=\"--\",c=clr[i])\n",
    "    plt.plot(t1,Efinal[i],c=clr[i])\n",
    "        \n",
    "plt.xlim([-3,10])\n",
    "plt.ylim([-10,10])\n",
    "\n",
    "plt.plot(0,label='actual : P',c='k',ls='--')\n",
    "plt.plot(0,label='Linear-transformation : P',c='k')\n",
    "plt.legend(loc='best')\n",
    "plt.axvline(x=0,c='k',ls=':')\n",
    "plt.axhline(y=0,c='k',ls=':')\n",
    "plt.title(\"Legendre :: Linear Transformation\")\n",
    "\n",
    "# print(Efinal)\n",
    "# plt.yticks(np.arange(-1,1,0.1))\n",
    "# plt.xticks(np.arange(-1,1,0.1))"
   ]
  },
  {
   "cell_type": "markdown",
   "id": "b24673b9",
   "metadata": {},
   "source": [
    "the difference between actual-P and P always remains and cannot be removed by variable factor"
   ]
  },
  {
   "cell_type": "code",
   "execution_count": 48,
   "id": "10b68fc4",
   "metadata": {},
   "outputs": [],
   "source": [
    "##check\n",
    "# from scipy.special import legendre\n",
    "# l=legendre(2)\n",
    "# #t=np.linspace(-1,1,100)\n",
    "# t= list(np.arange(-1,1,accuracy))\n",
    "\n",
    "# plt.plot(t,l(t))"
   ]
  },
  {
   "cell_type": "code",
   "execution_count": 24,
   "id": "bb166e70",
   "metadata": {},
   "outputs": [],
   "source": [
    "##check\n",
    "# EF=[]\n",
    "# t1= list(np.arange(-1,1,0.1))\n",
    "# for j in t1:\n",
    "#     q = sp.lambdify(x,eigenfn[2])\n",
    "#     p=q(float(j))#converts the variable x in eigenfn to j\n",
    "#     EF.append(p)\n",
    "# EF"
   ]
  }
 ],
 "metadata": {
  "kernelspec": {
   "display_name": "Python 3 (ipykernel)",
   "language": "python",
   "name": "python3"
  },
  "language_info": {
   "codemirror_mode": {
    "name": "ipython",
    "version": 3
   },
   "file_extension": ".py",
   "mimetype": "text/x-python",
   "name": "python",
   "nbconvert_exporter": "python",
   "pygments_lexer": "ipython3",
   "version": "3.10.6"
  }
 },
 "nbformat": 4,
 "nbformat_minor": 5
}

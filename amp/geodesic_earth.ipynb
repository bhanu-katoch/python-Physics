{
 "cells": [
  {
   "cell_type": "code",
   "execution_count": 166,
   "id": "f1935136",
   "metadata": {},
   "outputs": [],
   "source": [
    "import sympy as sp\n",
    "import numpy as np\n",
    "import pandas as pd\n",
    "import matplotlib.pyplot as plt"
   ]
  },
  {
   "cell_type": "markdown",
   "id": "f34fd351",
   "metadata": {},
   "source": [
    "we have take here problem of earth as sphere so radius of earth is 6371 km."
   ]
  },
  {
   "cell_type": "code",
   "execution_count": 167,
   "id": "f5c038f7",
   "metadata": {},
   "outputs": [],
   "source": [
    "R=6371#km\n",
    "# A=eval(input(\"enter coordinates of A : \"))\n",
    "# B=eval(input(\"enter coordinates of B : \"))\n",
    "Av=[1,2,3]#km\n",
    "Bv=[-1,3,2]#km\n",
    "d=3"
   ]
  },
  {
   "cell_type": "markdown",
   "id": "1115e3c0",
   "metadata": {},
   "source": [
    "the best way to choose the same coordinates in A and vector and just change the order of corrdinates."
   ]
  },
  {
   "cell_type": "code",
   "execution_count": 168,
   "id": "64d1df07",
   "metadata": {},
   "outputs": [
    {
     "data": {
      "text/plain": [
       "[1, 2, 3]"
      ]
     },
     "execution_count": 168,
     "metadata": {},
     "output_type": "execute_result"
    }
   ],
   "source": [
    "Av"
   ]
  },
  {
   "cell_type": "code",
   "execution_count": 169,
   "id": "bf3af2d1",
   "metadata": {},
   "outputs": [
    {
     "data": {
      "text/plain": [
       "[-1, 3, 2]"
      ]
     },
     "execution_count": 169,
     "metadata": {},
     "output_type": "execute_result"
    }
   ],
   "source": [
    "Bv"
   ]
  },
  {
   "cell_type": "code",
   "execution_count": 170,
   "id": "08f0bc70",
   "metadata": {},
   "outputs": [],
   "source": [
    "def mod_s(A,d):\n",
    "    sum=0\n",
    "    for i in range(d):\n",
    "        sum+=A[i]**2\n",
    "    return sum"
   ]
  },
  {
   "cell_type": "markdown",
   "id": "5a5b659c",
   "metadata": {},
   "source": [
    "Rv=|Av|or BV"
   ]
  },
  {
   "cell_type": "code",
   "execution_count": 171,
   "id": "7f9486c9",
   "metadata": {},
   "outputs": [
    {
     "data": {
      "text/plain": [
       "3.7416573867739413"
      ]
     },
     "execution_count": 171,
     "metadata": {},
     "output_type": "execute_result"
    }
   ],
   "source": [
    "Rv=mod_s(Av,d)**0.5\n",
    "Rv"
   ]
  },
  {
   "cell_type": "code",
   "execution_count": 172,
   "id": "af3b0703",
   "metadata": {},
   "outputs": [],
   "source": [
    "assert len(Av)==len(Bv)\n",
    "assert mod(Av,d)==mod(Bv,d)"
   ]
  },
  {
   "cell_type": "markdown",
   "id": "489430cc",
   "metadata": {},
   "source": [
    "we can either choose Av or Bv to get λ"
   ]
  },
  {
   "cell_type": "code",
   "execution_count": 173,
   "id": "1e34c3a7",
   "metadata": {},
   "outputs": [
    {
     "data": {
      "text/plain": [
       "1702.7213722240558"
      ]
     },
     "execution_count": 173,
     "metadata": {},
     "output_type": "execute_result"
    }
   ],
   "source": [
    "# getting scaling factor lambda to extrapolate to earth\n",
    "λ=R/(mod_s(Av,d)**0.5)\n",
    "λ#km"
   ]
  },
  {
   "cell_type": "markdown",
   "id": "b508d89b",
   "metadata": {},
   "source": [
    "If-->just checking program validity by setting R=|Av|= Rv (or can be Bv) and λ=1"
   ]
  },
  {
   "cell_type": "markdown",
   "id": "937c536d",
   "metadata": {},
   "source": [
    "R=Rv\n",
    "λ=1"
   ]
  },
  {
   "cell_type": "code",
   "execution_count": 174,
   "id": "fdab82ce",
   "metadata": {},
   "outputs": [],
   "source": [
    "A=[i*λ for i in Av] \n",
    "B=[i*λ for i in Bv] "
   ]
  },
  {
   "cell_type": "code",
   "execution_count": 175,
   "id": "905ebbc0",
   "metadata": {},
   "outputs": [
    {
     "data": {
      "text/plain": [
       "[1702.7213722240558, 3405.4427444481116, 5108.164116672167]"
      ]
     },
     "execution_count": 175,
     "metadata": {},
     "output_type": "execute_result"
    }
   ],
   "source": [
    "A"
   ]
  },
  {
   "cell_type": "code",
   "execution_count": 176,
   "id": "82920c37",
   "metadata": {},
   "outputs": [
    {
     "data": {
      "text/plain": [
       "6371.0"
      ]
     },
     "execution_count": 176,
     "metadata": {},
     "output_type": "execute_result"
    }
   ],
   "source": [
    "mod_s(A,d)**0.5"
   ]
  },
  {
   "cell_type": "code",
   "execution_count": 177,
   "id": "3f7cde9e",
   "metadata": {},
   "outputs": [
    {
     "data": {
      "text/plain": [
       "[-1702.7213722240558, 5108.164116672167, 3405.4427444481116]"
      ]
     },
     "execution_count": 177,
     "metadata": {},
     "output_type": "execute_result"
    }
   ],
   "source": [
    "B"
   ]
  },
  {
   "cell_type": "code",
   "execution_count": 178,
   "id": "f1555ddb",
   "metadata": {},
   "outputs": [
    {
     "data": {
      "text/plain": [
       "6371.0"
      ]
     },
     "execution_count": 178,
     "metadata": {},
     "output_type": "execute_result"
    }
   ],
   "source": [
    "mod_s(B,d)**0.5"
   ]
  },
  {
   "cell_type": "code",
   "execution_count": 179,
   "id": "331e8787",
   "metadata": {},
   "outputs": [
    {
     "data": {
      "text/plain": [
       "31891860.785714287"
      ]
     },
     "execution_count": 179,
     "metadata": {},
     "output_type": "execute_result"
    }
   ],
   "source": [
    "def dot_p(A,B,d):\n",
    "    sum=0\n",
    "    for i in range(d):\n",
    "        sum+=A[i]*B[i]\n",
    "    return sum\n",
    "dp=dot_p(A,B,d)\n",
    "dp"
   ]
  },
  {
   "cell_type": "markdown",
   "id": "a9080d9f",
   "metadata": {},
   "source": [
    "we can either choose A or B for mod product mp"
   ]
  },
  {
   "cell_type": "code",
   "execution_count": 180,
   "id": "45c72df7",
   "metadata": {},
   "outputs": [
    {
     "data": {
      "text/plain": [
       "40589641.0"
      ]
     },
     "execution_count": 180,
     "metadata": {},
     "output_type": "execute_result"
    }
   ],
   "source": [
    "mp=mod_s(B,d)\n",
    "mp"
   ]
  },
  {
   "cell_type": "code",
   "execution_count": 181,
   "id": "2b008057",
   "metadata": {},
   "outputs": [
    {
     "data": {
      "text/plain": [
       "38.21321070173819"
      ]
     },
     "execution_count": 181,
     "metadata": {},
     "output_type": "execute_result"
    }
   ],
   "source": [
    "# cosθ\n",
    "θ1=np.arccos(dp/mp) #radian\n",
    "θ=θ1*(180/np.pi)\n",
    "θ #degree"
   ]
  },
  {
   "cell_type": "code",
   "execution_count": 220,
   "id": "ecfd44fe",
   "metadata": {},
   "outputs": [
    {
     "data": {
      "text/plain": [
       "4249.1152"
      ]
     },
     "execution_count": 220,
     "metadata": {},
     "output_type": "execute_result"
    }
   ],
   "source": [
    "l1=2*np.pi*R*(θ/360)\n",
    "l=round(l1,4)\n",
    "l#km"
   ]
  },
  {
   "cell_type": "code",
   "execution_count": 230,
   "id": "9172014b",
   "metadata": {},
   "outputs": [
    {
     "data": {
      "image/png": "[encoded data removed]",
      "text/plain": [
       "<Figure size 700x350 with 1 Axes>"
      ]
     },
     "metadata": {},
     "output_type": "display_data"
    }
   ],
   "source": [
    "# Program to plot a Circle\n",
    "# using Parametric equation of a Circle\n",
    "\n",
    "import numpy as np\n",
    "import matplotlib.pyplot as plt\n",
    "ac=150\n",
    "t=θ1/2\n",
    "theta = np.linspace( -np.pi, np.pi , ac)\n",
    "theta1=np.linspace( -t , t , ac)#radian angle\n",
    "radius = R\n",
    "\n",
    "a = radius * np.cos( theta )\n",
    "b = radius * np.sin( theta )\n",
    "\n",
    "a1 = radius * np.cos( theta1 )\n",
    "b1 = radius * np.sin( theta1 )\n",
    "\n",
    "a2= radius * np.cos( t )#radian angle\n",
    "b2= radius * np.sin( t )#radian angle\n",
    "\n",
    "a3= radius * np.cos( -t )\n",
    "b3= radius * np.sin( -t )\n",
    "\n",
    "aax=[0, a2]\n",
    "aay=[0,b2]\n",
    "\n",
    "bbx=[0,a3]\n",
    "bby=[0,b3]\n",
    "\n",
    "figure, axes = plt.subplots( 1 )\n",
    "\n",
    "axes.plot( a, b )\n",
    "axes.plot(a1,b1,label=\"l\")\n",
    "\n",
    "axes.plot(aax,aay,marker=\"o\",color=\"black\")\n",
    "axes.plot(bbx,bby,marker=\"o\",color=\"black\")\n",
    "axes.set_aspect( 1 )\n",
    "plt.legend(loc=\"best\")\n",
    "plt.title( 'Great Circle - Earth' )\n",
    "plt.show()\n"
   ]
  }
 ],
 "metadata": {
  "kernelspec": {
   "display_name": "Python 3 (ipykernel)",
   "language": "python",
   "name": "python3"
  },
  "language_info": {
   "codemirror_mode": {
    "name": "ipython",
    "version": 3
   },
   "file_extension": ".py",
   "mimetype": "text/x-python",
   "name": "python",
   "nbconvert_exporter": "python",
   "pygments_lexer": "ipython3",
   "version": "3.10.6"
  }
 },
 "nbformat": 4,
 "nbformat_minor": 5
}

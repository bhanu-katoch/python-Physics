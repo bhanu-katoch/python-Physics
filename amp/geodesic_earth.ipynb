{
 "cells": [
  {
   "cell_type": "code",
   "execution_count": 166,
   "id": "7a4671c5",
   "metadata": {},
   "outputs": [],
   "source": [
    "import sympy as sp\n",
    "import numpy as np\n",
    "import pandas as pd\n",
    "import matplotlib.pyplot as plt"
   ]
  },
  {
   "cell_type": "markdown",
   "id": "7164c0a0",
   "metadata": {},
   "source": [
    "we have take here problem of earth as sphere so radius of earth is 6371 km."
   ]
  },
  {
   "cell_type": "code",
   "execution_count": 167,
   "id": "9c35c350",
   "metadata": {},
   "outputs": [],
   "source": [
    "R=6371#km\n",
    "# A=eval(input(\"enter coordinates of A : \"))\n",
    "# B=eval(input(\"enter coordinates of B : \"))\n",
    "Av=[1,2,3]#km\n",
    "Bv=[-1,3,2]#km\n",
    "d=3"
   ]
  },
  {
   "cell_type": "markdown",
   "id": "916e0d2d",
   "metadata": {},
   "source": [
    "the best way to choose the same coordinates in A and vector and just change the order of corrdinates."
   ]
  },
  {
   "cell_type": "code",
   "execution_count": 168,
   "id": "dcc0d520",
   "metadata": {},
   "outputs": [
    {
     "data": {
      "text/plain": [
       "[1, 2, 3]"
      ]
     },
     "execution_count": 168,
     "metadata": {},
     "output_type": "execute_result"
    }
   ],
   "source": [
    "Av"
   ]
  },
  {
   "cell_type": "code",
   "execution_count": 169,
   "id": "505d13cd",
   "metadata": {},
   "outputs": [
    {
     "data": {
      "text/plain": [
       "[-1, 3, 2]"
      ]
     },
     "execution_count": 169,
     "metadata": {},
     "output_type": "execute_result"
    }
   ],
   "source": [
    "Bv"
   ]
  },
  {
   "cell_type": "code",
   "execution_count": 232,
   "id": "6745b633",
   "metadata": {},
   "outputs": [],
   "source": [
    "def mod_s(A,d):\n",
    "    sum=0\n",
    "    for i in range(d):\n",
    "        sum+=A[i]**2\n",
    "    return sum"
   ]
  },
  {
   "cell_type": "markdown",
   "id": "4a810b8f",
   "metadata": {},
   "source": [
    "Rv=|Av|or BV"
   ]
  },
  {
   "cell_type": "code",
   "execution_count": 233,
   "id": "ea9a4caf",
   "metadata": {},
   "outputs": [
    {
     "data": {
      "text/plain": [
       "3.7416573867739413"
      ]
     },
     "execution_count": 233,
     "metadata": {},
     "output_type": "execute_result"
    }
   ],
   "source": [
    "Rv=mod_s(Av,d)**0.5\n",
    "Rv"
   ]
  },
  {
   "cell_type": "code",
   "execution_count": 234,
   "id": "abf0191c",
   "metadata": {},
   "outputs": [],
   "source": [
    "assert len(Av)==len(Bv)\n",
    "assert mod_s(Av,d)==mod_s(Bv,d)"
   ]
  },
  {
   "cell_type": "markdown",
   "id": "85f51fb5",
   "metadata": {},
   "source": [
    "we can either choose Av or Bv to get λ"
   ]
  },
  {
   "cell_type": "code",
   "execution_count": 235,
   "id": "08df5d71",
   "metadata": {},
   "outputs": [
    {
     "data": {
      "text/plain": [
       "1702.7213722240558"
      ]
     },
     "execution_count": 235,
     "metadata": {},
     "output_type": "execute_result"
    }
   ],
   "source": [
    "# getting scaling factor lambda to extrapolate to earth\n",
    "λ=R/(mod_s(Av,d)**0.5)\n",
    "λ#km"
   ]
  },
  {
   "cell_type": "markdown",
   "id": "953967be",
   "metadata": {},
   "source": [
    "If-->just checking program validity by setting R=|Av|= Rv (or can be Bv) and λ=1"
   ]
  },
  {
   "cell_type": "markdown",
   "id": "2bf11de8",
   "metadata": {},
   "source": [
    "R=Rv\n",
    "λ=1"
   ]
  },
  {
   "cell_type": "code",
   "execution_count": 236,
   "id": "bedfd78b",
   "metadata": {},
   "outputs": [],
   "source": [
    "A=[i*λ for i in Av] \n",
    "B=[i*λ for i in Bv] "
   ]
  },
  {
   "cell_type": "code",
   "execution_count": 237,
   "id": "b6a07a1c",
   "metadata": {},
   "outputs": [
    {
     "data": {
      "text/plain": [
       "[1702.7213722240558, 3405.4427444481116, 5108.164116672167]"
      ]
     },
     "execution_count": 237,
     "metadata": {},
     "output_type": "execute_result"
    }
   ],
   "source": [
    "A"
   ]
  },
  {
   "cell_type": "code",
   "execution_count": 238,
   "id": "15c4bb40",
   "metadata": {},
   "outputs": [
    {
     "data": {
      "text/plain": [
       "6371.0"
      ]
     },
     "execution_count": 238,
     "metadata": {},
     "output_type": "execute_result"
    }
   ],
   "source": [
    "mod_s(A,d)**0.5"
   ]
  },
  {
   "cell_type": "code",
   "execution_count": 239,
   "id": "02947bc4",
   "metadata": {},
   "outputs": [
    {
     "data": {
      "text/plain": [
       "[-1702.7213722240558, 5108.164116672167, 3405.4427444481116]"
      ]
     },
     "execution_count": 239,
     "metadata": {},
     "output_type": "execute_result"
    }
   ],
   "source": [
    "B"
   ]
  },
  {
   "cell_type": "code",
   "execution_count": 240,
   "id": "d6c90630",
   "metadata": {},
   "outputs": [
    {
     "data": {
      "text/plain": [
       "6371.0"
      ]
     },
     "execution_count": 240,
     "metadata": {},
     "output_type": "execute_result"
    }
   ],
   "source": [
    "mod_s(B,d)**0.5"
   ]
  },
  {
   "cell_type": "code",
   "execution_count": 241,
   "id": "26cff454",
   "metadata": {},
   "outputs": [
    {
     "data": {
      "text/plain": [
       "31891860.785714287"
      ]
     },
     "execution_count": 241,
     "metadata": {},
     "output_type": "execute_result"
    }
   ],
   "source": [
    "def dot_p(A,B,d):\n",
    "    sum=0\n",
    "    for i in range(d):\n",
    "        sum+=A[i]*B[i]\n",
    "    return sum\n",
    "dp=dot_p(A,B,d)\n",
    "dp"
   ]
  },
  {
   "cell_type": "markdown",
   "id": "96c5d081",
   "metadata": {},
   "source": [
    "we can either choose A or B for mod product mp"
   ]
  },
  {
   "cell_type": "code",
   "execution_count": 242,
   "id": "20bb0202",
   "metadata": {},
   "outputs": [
    {
     "data": {
      "text/plain": [
       "40589641.0"
      ]
     },
     "execution_count": 242,
     "metadata": {},
     "output_type": "execute_result"
    }
   ],
   "source": [
    "mp=mod_s(B,d)\n",
    "mp"
   ]
  },
  {
   "cell_type": "code",
   "execution_count": 243,
   "id": "a9108692",
   "metadata": {},
   "outputs": [
    {
     "data": {
      "text/plain": [
       "38.21321070173819"
      ]
     },
     "execution_count": 243,
     "metadata": {},
     "output_type": "execute_result"
    }
   ],
   "source": [
    "# cosθ\n",
    "θ1=np.arccos(dp/mp) #radian\n",
    "θ=θ1*(180/np.pi)\n",
    "θ #degree"
   ]
  },
  {
   "cell_type": "code",
   "execution_count": 244,
   "id": "46461a53",
   "metadata": {},
   "outputs": [
    {
     "data": {
      "text/plain": [
       "4249.1152"
      ]
     },
     "execution_count": 244,
     "metadata": {},
     "output_type": "execute_result"
    }
   ],
   "source": [
    "l1=2*np.pi*R*(θ/360)\n",
    "l=round(l1,4)\n",
    "l#km"
   ]
  },
  {
   "cell_type": "code",
   "execution_count": 254,
   "id": "efb76a30",
   "metadata": {},
   "outputs": [
    {
     "data": {
      "image/png": "[encoded data removed]",
      "text/plain": [
       "<Figure size 700x350 with 1 Axes>"
      ]
     },
     "metadata": {},
     "output_type": "display_data"
    }
   ],
   "source": [
    "# Program to plot a Circle\n",
    "# using Parametric equation of a Circle\n",
    "\n",
    "import numpy as np\n",
    "import matplotlib.pyplot as plt\n",
    "ac=150\n",
    "t=θ1/2\n",
    "theta = np.linspace( -np.pi, np.pi , ac)\n",
    "theta1=np.linspace( -t , t , ac)#radian angle\n",
    "radius = R\n",
    "\n",
    "a = radius * np.cos( theta )\n",
    "b = radius * np.sin( theta )\n",
    "\n",
    "a1 = radius * np.cos( theta1 )\n",
    "b1 = radius * np.sin( theta1 )\n",
    "\n",
    "a2= radius * np.cos( t )#radian angle\n",
    "b2= radius * np.sin( t )#radian angle\n",
    "\n",
    "a3= radius * np.cos( -t )\n",
    "b3= radius * np.sin( -t )\n",
    "\n",
    "aax=[0, a2]\n",
    "aay=[0,b2]\n",
    "\n",
    "bbx=[0,a3]\n",
    "bby=[0,b3]\n",
    "\n",
    "figure, axes = plt.subplots( 1 )\n",
    "\n",
    "axes.plot( a, b )\n",
    "axes.plot(a1,b1,label=\"l\")\n",
    "\n",
    "cr=\"#cccccc\"\n",
    "\n",
    "axes.plot(aax,aay,marker=\"o\",color=cr)\n",
    "axes.plot(bbx,bby,marker=\"o\",color=cr)\n",
    "axes.set_aspect( 1 )\n",
    "plt.legend(loc=\"best\")\n",
    "plt.title( 'Great Circle - Earth' )\n",
    "\n",
    "axes.set_facecolor(\"black\")\n",
    "\n",
    "plt.show()\n"
   ]
  },
  {
   "cell_type": "code",
   "execution_count": null,
   "id": "16e1444d",
   "metadata": {},
   "outputs": [],
   "source": []
  }
 ],
 "metadata": {
  "kernelspec": {
   "display_name": "Python 3 (ipykernel)",
   "language": "python",
   "name": "python3"
  },
  "language_info": {
   "codemirror_mode": {
    "name": "ipython",
    "version": 3
   },
   "file_extension": ".py",
   "mimetype": "text/x-python",
   "name": "python",
   "nbconvert_exporter": "python",
   "pygments_lexer": "ipython3",
   "version": "3.10.6"
  }
 },
 "nbformat": 4,
 "nbformat_minor": 5
}
